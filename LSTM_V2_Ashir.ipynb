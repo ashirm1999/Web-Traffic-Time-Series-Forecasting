{
  "nbformat": 4,
  "nbformat_minor": 0,
  "metadata": {
    "colab": {
      "name": "LSTM_V2_Ashir.ipynb",
      "provenance": [],
      "collapsed_sections": [],
      "mount_file_id": "16WZEx-W7tXBs741FxZs1xxTmYZ6MFl1Q",
      "authorship_tag": "ABX9TyMDLTSmW3yicmBZW38zHaLq",
      "include_colab_link": true
    },
    "kernelspec": {
      "name": "python3",
      "display_name": "Python 3"
    },
    "language_info": {
      "name": "python"
    }
  },
  "cells": [
    {
      "cell_type": "markdown",
      "metadata": {
        "id": "view-in-github",
        "colab_type": "text"
      },
      "source": [
        "<a href=\"https://colab.research.google.com/github/ashirm1999/Web-Traffic-Time-Series-Forecasting/blob/main/LSTM_V2_Ashir.ipynb\" target=\"_parent\"><img src=\"https://colab.research.google.com/assets/colab-badge.svg\" alt=\"Open In Colab\"/></a>"
      ]
    },
    {
      "cell_type": "code",
      "metadata": {
        "colab": {
          "base_uri": "https://localhost:8080/"
        },
        "id": "06J1saMwzXWT",
        "outputId": "2da8442a-bff5-4c21-bfa8-97c144a92014"
      },
      "source": [
        "pip install kaggle"
      ],
      "execution_count": 1,
      "outputs": [
        {
          "output_type": "stream",
          "name": "stdout",
          "text": [
            "Requirement already satisfied: kaggle in /usr/local/lib/python3.7/dist-packages (1.5.12)\n",
            "Requirement already satisfied: certifi in /usr/local/lib/python3.7/dist-packages (from kaggle) (2021.10.8)\n",
            "Requirement already satisfied: urllib3 in /usr/local/lib/python3.7/dist-packages (from kaggle) (1.24.3)\n",
            "Requirement already satisfied: six>=1.10 in /usr/local/lib/python3.7/dist-packages (from kaggle) (1.15.0)\n",
            "Requirement already satisfied: requests in /usr/local/lib/python3.7/dist-packages (from kaggle) (2.23.0)\n",
            "Requirement already satisfied: python-slugify in /usr/local/lib/python3.7/dist-packages (from kaggle) (5.0.2)\n",
            "Requirement already satisfied: python-dateutil in /usr/local/lib/python3.7/dist-packages (from kaggle) (2.8.2)\n",
            "Requirement already satisfied: tqdm in /usr/local/lib/python3.7/dist-packages (from kaggle) (4.62.3)\n",
            "Requirement already satisfied: text-unidecode>=1.3 in /usr/local/lib/python3.7/dist-packages (from python-slugify->kaggle) (1.3)\n",
            "Requirement already satisfied: idna<3,>=2.5 in /usr/local/lib/python3.7/dist-packages (from requests->kaggle) (2.10)\n",
            "Requirement already satisfied: chardet<4,>=3.0.2 in /usr/local/lib/python3.7/dist-packages (from requests->kaggle) (3.0.4)\n"
          ]
        }
      ]
    },
    {
      "cell_type": "code",
      "metadata": {
        "id": "XI6RuGgYzazs",
        "colab": {
          "base_uri": "https://localhost:8080/"
        },
        "outputId": "499eb81c-cb4d-4a35-9598-fd18b94c53e0"
      },
      "source": [
        "!mkdir ~/.kaggle"
      ],
      "execution_count": 2,
      "outputs": [
        {
          "output_type": "stream",
          "name": "stdout",
          "text": [
            "mkdir: cannot create directory ‘/root/.kaggle’: File exists\n"
          ]
        }
      ]
    },
    {
      "cell_type": "code",
      "metadata": {
        "id": "jI-gyrgHzlft"
      },
      "source": [
        "! cp kaggle.json ~/.kaggle/"
      ],
      "execution_count": 3,
      "outputs": []
    },
    {
      "cell_type": "code",
      "metadata": {
        "id": "KLOMV5CdznBF"
      },
      "source": [
        "! chmod 600 ~/.kaggle/kaggle.json"
      ],
      "execution_count": 4,
      "outputs": []
    },
    {
      "cell_type": "code",
      "metadata": {
        "colab": {
          "base_uri": "https://localhost:8080/"
        },
        "id": "bhkaqLtPzohc",
        "outputId": "ab8a5fc4-bea3-44dd-8dae-730bda3c5fc3"
      },
      "source": [
        "! kaggle competitions download web-traffic-time-series-forecasting"
      ],
      "execution_count": 1,
      "outputs": [
        {
          "output_type": "stream",
          "name": "stdout",
          "text": [
            "Warning: Looks like you're using an outdated API Version, please consider updating (server 1.5.12 / client 1.5.4)\n",
            "train_2.csv.zip: Skipping, found more recently modified local copy (use --force to force download)\n",
            "train_1.csv.zip: Skipping, found more recently modified local copy (use --force to force download)\n",
            "key_1.csv.zip: Skipping, found more recently modified local copy (use --force to force download)\n",
            "key_2.csv.zip: Skipping, found more recently modified local copy (use --force to force download)\n",
            "sample_submission_2.csv.zip: Skipping, found more recently modified local copy (use --force to force download)\n",
            "sample_submission_1.csv.zip: Skipping, found more recently modified local copy (use --force to force download)\n"
          ]
        }
      ]
    },
    {
      "cell_type": "code",
      "metadata": {
        "colab": {
          "base_uri": "https://localhost:8080/"
        },
        "id": "NYlvPIoSzqFd",
        "outputId": "4e86decf-3f2a-4502-a0c7-2d660655dc6c"
      },
      "source": [
        "#! unzip key_1.csv.zip\n",
        "#! unzip key_2.csv.zip\n",
        "! unzip train_1.csv.zip\n",
        "! unzip train_2.csv.zip"
      ],
      "execution_count": 6,
      "outputs": [
        {
          "output_type": "stream",
          "name": "stdout",
          "text": [
            "Archive:  train_1.csv.zip\n",
            "replace train_1.csv? [y]es, [n]o, [A]ll, [N]one, [r]ename: N\n",
            "Archive:  train_2.csv.zip\n",
            "replace train_2.csv? [y]es, [n]o, [A]ll, [N]one, [r]ename: N\n"
          ]
        }
      ]
    },
    {
      "cell_type": "code",
      "metadata": {
        "id": "GuGOXpgdzt6Q"
      },
      "source": [
        "import pandas as pd\n",
        "import numpy as np\n",
        "import matplotlib.pyplot as plt\n",
        "import seaborn as sns\n",
        "from keras.models import Sequential\n",
        "from keras.layers import Dense\n",
        "from keras.layers import LSTM\n",
        "from sklearn.model_selection import train_test_split\n",
        "from sklearn.preprocessing import MinMaxScaler\n",
        "import random"
      ],
      "execution_count": 19,
      "outputs": []
    },
    {
      "cell_type": "code",
      "metadata": {
        "id": "ht1CBZ_azvrn"
      },
      "source": [
        "df1 = pd.read_csv('/content/train_1.csv')\n",
        "df2 = pd.read_csv('/content/train_2.csv')"
      ],
      "execution_count": 20,
      "outputs": []
    },
    {
      "cell_type": "code",
      "metadata": {
        "colab": {
          "base_uri": "https://localhost:8080/",
          "height": 325
        },
        "id": "X3vEa9XGzyzE",
        "outputId": "13ff0c7b-932a-43d0-bdd2-af2b20e190ea"
      },
      "source": [
        "df1.head()"
      ],
      "execution_count": 21,
      "outputs": [
        {
          "output_type": "execute_result",
          "data": {
            "text/html": [
              "<div>\n",
              "<style scoped>\n",
              "    .dataframe tbody tr th:only-of-type {\n",
              "        vertical-align: middle;\n",
              "    }\n",
              "\n",
              "    .dataframe tbody tr th {\n",
              "        vertical-align: top;\n",
              "    }\n",
              "\n",
              "    .dataframe thead th {\n",
              "        text-align: right;\n",
              "    }\n",
              "</style>\n",
              "<table border=\"1\" class=\"dataframe\">\n",
              "  <thead>\n",
              "    <tr style=\"text-align: right;\">\n",
              "      <th></th>\n",
              "      <th>Page</th>\n",
              "      <th>2015-07-01</th>\n",
              "      <th>2015-07-02</th>\n",
              "      <th>2015-07-03</th>\n",
              "      <th>2015-07-04</th>\n",
              "      <th>2015-07-05</th>\n",
              "      <th>2015-07-06</th>\n",
              "      <th>2015-07-07</th>\n",
              "      <th>2015-07-08</th>\n",
              "      <th>2015-07-09</th>\n",
              "      <th>2015-07-10</th>\n",
              "      <th>2015-07-11</th>\n",
              "      <th>2015-07-12</th>\n",
              "      <th>2015-07-13</th>\n",
              "      <th>2015-07-14</th>\n",
              "      <th>2015-07-15</th>\n",
              "      <th>2015-07-16</th>\n",
              "      <th>2015-07-17</th>\n",
              "      <th>2015-07-18</th>\n",
              "      <th>2015-07-19</th>\n",
              "      <th>2015-07-20</th>\n",
              "      <th>2015-07-21</th>\n",
              "      <th>2015-07-22</th>\n",
              "      <th>2015-07-23</th>\n",
              "      <th>2015-07-24</th>\n",
              "      <th>2015-07-25</th>\n",
              "      <th>2015-07-26</th>\n",
              "      <th>2015-07-27</th>\n",
              "      <th>2015-07-28</th>\n",
              "      <th>2015-07-29</th>\n",
              "      <th>2015-07-30</th>\n",
              "      <th>2015-07-31</th>\n",
              "      <th>2015-08-01</th>\n",
              "      <th>2015-08-02</th>\n",
              "      <th>2015-08-03</th>\n",
              "      <th>2015-08-04</th>\n",
              "      <th>2015-08-05</th>\n",
              "      <th>2015-08-06</th>\n",
              "      <th>2015-08-07</th>\n",
              "      <th>2015-08-08</th>\n",
              "      <th>...</th>\n",
              "      <th>2016-11-22</th>\n",
              "      <th>2016-11-23</th>\n",
              "      <th>2016-11-24</th>\n",
              "      <th>2016-11-25</th>\n",
              "      <th>2016-11-26</th>\n",
              "      <th>2016-11-27</th>\n",
              "      <th>2016-11-28</th>\n",
              "      <th>2016-11-29</th>\n",
              "      <th>2016-11-30</th>\n",
              "      <th>2016-12-01</th>\n",
              "      <th>2016-12-02</th>\n",
              "      <th>2016-12-03</th>\n",
              "      <th>2016-12-04</th>\n",
              "      <th>2016-12-05</th>\n",
              "      <th>2016-12-06</th>\n",
              "      <th>2016-12-07</th>\n",
              "      <th>2016-12-08</th>\n",
              "      <th>2016-12-09</th>\n",
              "      <th>2016-12-10</th>\n",
              "      <th>2016-12-11</th>\n",
              "      <th>2016-12-12</th>\n",
              "      <th>2016-12-13</th>\n",
              "      <th>2016-12-14</th>\n",
              "      <th>2016-12-15</th>\n",
              "      <th>2016-12-16</th>\n",
              "      <th>2016-12-17</th>\n",
              "      <th>2016-12-18</th>\n",
              "      <th>2016-12-19</th>\n",
              "      <th>2016-12-20</th>\n",
              "      <th>2016-12-21</th>\n",
              "      <th>2016-12-22</th>\n",
              "      <th>2016-12-23</th>\n",
              "      <th>2016-12-24</th>\n",
              "      <th>2016-12-25</th>\n",
              "      <th>2016-12-26</th>\n",
              "      <th>2016-12-27</th>\n",
              "      <th>2016-12-28</th>\n",
              "      <th>2016-12-29</th>\n",
              "      <th>2016-12-30</th>\n",
              "      <th>2016-12-31</th>\n",
              "    </tr>\n",
              "  </thead>\n",
              "  <tbody>\n",
              "    <tr>\n",
              "      <th>0</th>\n",
              "      <td>2NE1_zh.wikipedia.org_all-access_spider</td>\n",
              "      <td>18.0</td>\n",
              "      <td>11.0</td>\n",
              "      <td>5.0</td>\n",
              "      <td>13.0</td>\n",
              "      <td>14.0</td>\n",
              "      <td>9.0</td>\n",
              "      <td>9.0</td>\n",
              "      <td>22.0</td>\n",
              "      <td>26.0</td>\n",
              "      <td>24.0</td>\n",
              "      <td>19.0</td>\n",
              "      <td>10.0</td>\n",
              "      <td>14.0</td>\n",
              "      <td>15.0</td>\n",
              "      <td>8.0</td>\n",
              "      <td>16.0</td>\n",
              "      <td>8.0</td>\n",
              "      <td>8.0</td>\n",
              "      <td>16.0</td>\n",
              "      <td>7.0</td>\n",
              "      <td>11.0</td>\n",
              "      <td>10.0</td>\n",
              "      <td>20.0</td>\n",
              "      <td>18.0</td>\n",
              "      <td>15.0</td>\n",
              "      <td>14.0</td>\n",
              "      <td>49.0</td>\n",
              "      <td>10.0</td>\n",
              "      <td>16.0</td>\n",
              "      <td>18.0</td>\n",
              "      <td>8.0</td>\n",
              "      <td>5.0</td>\n",
              "      <td>9.0</td>\n",
              "      <td>7.0</td>\n",
              "      <td>13.0</td>\n",
              "      <td>9.0</td>\n",
              "      <td>7.0</td>\n",
              "      <td>4.0</td>\n",
              "      <td>11.0</td>\n",
              "      <td>...</td>\n",
              "      <td>24.0</td>\n",
              "      <td>14.0</td>\n",
              "      <td>11.0</td>\n",
              "      <td>204.0</td>\n",
              "      <td>14.0</td>\n",
              "      <td>45.0</td>\n",
              "      <td>33.0</td>\n",
              "      <td>28.0</td>\n",
              "      <td>18.0</td>\n",
              "      <td>14.0</td>\n",
              "      <td>47.0</td>\n",
              "      <td>15.0</td>\n",
              "      <td>14.0</td>\n",
              "      <td>18.0</td>\n",
              "      <td>20.0</td>\n",
              "      <td>14.0</td>\n",
              "      <td>16.0</td>\n",
              "      <td>14.0</td>\n",
              "      <td>20.0</td>\n",
              "      <td>60.0</td>\n",
              "      <td>22.0</td>\n",
              "      <td>15.0</td>\n",
              "      <td>17.0</td>\n",
              "      <td>19.0</td>\n",
              "      <td>18.0</td>\n",
              "      <td>21.0</td>\n",
              "      <td>21.0</td>\n",
              "      <td>47.0</td>\n",
              "      <td>65.0</td>\n",
              "      <td>17.0</td>\n",
              "      <td>32.0</td>\n",
              "      <td>63.0</td>\n",
              "      <td>15.0</td>\n",
              "      <td>26.0</td>\n",
              "      <td>14.0</td>\n",
              "      <td>20.0</td>\n",
              "      <td>22.0</td>\n",
              "      <td>19.0</td>\n",
              "      <td>18.0</td>\n",
              "      <td>20.0</td>\n",
              "    </tr>\n",
              "    <tr>\n",
              "      <th>1</th>\n",
              "      <td>2PM_zh.wikipedia.org_all-access_spider</td>\n",
              "      <td>11.0</td>\n",
              "      <td>14.0</td>\n",
              "      <td>15.0</td>\n",
              "      <td>18.0</td>\n",
              "      <td>11.0</td>\n",
              "      <td>13.0</td>\n",
              "      <td>22.0</td>\n",
              "      <td>11.0</td>\n",
              "      <td>10.0</td>\n",
              "      <td>4.0</td>\n",
              "      <td>41.0</td>\n",
              "      <td>65.0</td>\n",
              "      <td>57.0</td>\n",
              "      <td>38.0</td>\n",
              "      <td>20.0</td>\n",
              "      <td>62.0</td>\n",
              "      <td>44.0</td>\n",
              "      <td>15.0</td>\n",
              "      <td>10.0</td>\n",
              "      <td>47.0</td>\n",
              "      <td>24.0</td>\n",
              "      <td>17.0</td>\n",
              "      <td>22.0</td>\n",
              "      <td>9.0</td>\n",
              "      <td>39.0</td>\n",
              "      <td>13.0</td>\n",
              "      <td>11.0</td>\n",
              "      <td>12.0</td>\n",
              "      <td>21.0</td>\n",
              "      <td>19.0</td>\n",
              "      <td>9.0</td>\n",
              "      <td>15.0</td>\n",
              "      <td>33.0</td>\n",
              "      <td>8.0</td>\n",
              "      <td>8.0</td>\n",
              "      <td>7.0</td>\n",
              "      <td>13.0</td>\n",
              "      <td>2.0</td>\n",
              "      <td>23.0</td>\n",
              "      <td>...</td>\n",
              "      <td>14.0</td>\n",
              "      <td>15.0</td>\n",
              "      <td>15.0</td>\n",
              "      <td>11.0</td>\n",
              "      <td>20.0</td>\n",
              "      <td>13.0</td>\n",
              "      <td>19.0</td>\n",
              "      <td>621.0</td>\n",
              "      <td>57.0</td>\n",
              "      <td>17.0</td>\n",
              "      <td>23.0</td>\n",
              "      <td>19.0</td>\n",
              "      <td>21.0</td>\n",
              "      <td>47.0</td>\n",
              "      <td>28.0</td>\n",
              "      <td>22.0</td>\n",
              "      <td>22.0</td>\n",
              "      <td>65.0</td>\n",
              "      <td>27.0</td>\n",
              "      <td>17.0</td>\n",
              "      <td>17.0</td>\n",
              "      <td>13.0</td>\n",
              "      <td>9.0</td>\n",
              "      <td>18.0</td>\n",
              "      <td>22.0</td>\n",
              "      <td>17.0</td>\n",
              "      <td>15.0</td>\n",
              "      <td>22.0</td>\n",
              "      <td>23.0</td>\n",
              "      <td>19.0</td>\n",
              "      <td>17.0</td>\n",
              "      <td>42.0</td>\n",
              "      <td>28.0</td>\n",
              "      <td>15.0</td>\n",
              "      <td>9.0</td>\n",
              "      <td>30.0</td>\n",
              "      <td>52.0</td>\n",
              "      <td>45.0</td>\n",
              "      <td>26.0</td>\n",
              "      <td>20.0</td>\n",
              "    </tr>\n",
              "    <tr>\n",
              "      <th>2</th>\n",
              "      <td>3C_zh.wikipedia.org_all-access_spider</td>\n",
              "      <td>1.0</td>\n",
              "      <td>0.0</td>\n",
              "      <td>1.0</td>\n",
              "      <td>1.0</td>\n",
              "      <td>0.0</td>\n",
              "      <td>4.0</td>\n",
              "      <td>0.0</td>\n",
              "      <td>3.0</td>\n",
              "      <td>4.0</td>\n",
              "      <td>4.0</td>\n",
              "      <td>1.0</td>\n",
              "      <td>1.0</td>\n",
              "      <td>1.0</td>\n",
              "      <td>6.0</td>\n",
              "      <td>8.0</td>\n",
              "      <td>6.0</td>\n",
              "      <td>4.0</td>\n",
              "      <td>5.0</td>\n",
              "      <td>1.0</td>\n",
              "      <td>2.0</td>\n",
              "      <td>3.0</td>\n",
              "      <td>8.0</td>\n",
              "      <td>8.0</td>\n",
              "      <td>6.0</td>\n",
              "      <td>6.0</td>\n",
              "      <td>2.0</td>\n",
              "      <td>2.0</td>\n",
              "      <td>3.0</td>\n",
              "      <td>2.0</td>\n",
              "      <td>4.0</td>\n",
              "      <td>3.0</td>\n",
              "      <td>3.0</td>\n",
              "      <td>5.0</td>\n",
              "      <td>3.0</td>\n",
              "      <td>5.0</td>\n",
              "      <td>4.0</td>\n",
              "      <td>2.0</td>\n",
              "      <td>5.0</td>\n",
              "      <td>1.0</td>\n",
              "      <td>...</td>\n",
              "      <td>9.0</td>\n",
              "      <td>3.0</td>\n",
              "      <td>5.0</td>\n",
              "      <td>4.0</td>\n",
              "      <td>0.0</td>\n",
              "      <td>1.0</td>\n",
              "      <td>4.0</td>\n",
              "      <td>5.0</td>\n",
              "      <td>8.0</td>\n",
              "      <td>8.0</td>\n",
              "      <td>1.0</td>\n",
              "      <td>1.0</td>\n",
              "      <td>2.0</td>\n",
              "      <td>5.0</td>\n",
              "      <td>3.0</td>\n",
              "      <td>3.0</td>\n",
              "      <td>3.0</td>\n",
              "      <td>7.0</td>\n",
              "      <td>3.0</td>\n",
              "      <td>9.0</td>\n",
              "      <td>8.0</td>\n",
              "      <td>3.0</td>\n",
              "      <td>210.0</td>\n",
              "      <td>5.0</td>\n",
              "      <td>4.0</td>\n",
              "      <td>6.0</td>\n",
              "      <td>2.0</td>\n",
              "      <td>2.0</td>\n",
              "      <td>4.0</td>\n",
              "      <td>3.0</td>\n",
              "      <td>3.0</td>\n",
              "      <td>1.0</td>\n",
              "      <td>1.0</td>\n",
              "      <td>7.0</td>\n",
              "      <td>4.0</td>\n",
              "      <td>4.0</td>\n",
              "      <td>6.0</td>\n",
              "      <td>3.0</td>\n",
              "      <td>4.0</td>\n",
              "      <td>17.0</td>\n",
              "    </tr>\n",
              "    <tr>\n",
              "      <th>3</th>\n",
              "      <td>4minute_zh.wikipedia.org_all-access_spider</td>\n",
              "      <td>35.0</td>\n",
              "      <td>13.0</td>\n",
              "      <td>10.0</td>\n",
              "      <td>94.0</td>\n",
              "      <td>4.0</td>\n",
              "      <td>26.0</td>\n",
              "      <td>14.0</td>\n",
              "      <td>9.0</td>\n",
              "      <td>11.0</td>\n",
              "      <td>16.0</td>\n",
              "      <td>16.0</td>\n",
              "      <td>11.0</td>\n",
              "      <td>23.0</td>\n",
              "      <td>145.0</td>\n",
              "      <td>14.0</td>\n",
              "      <td>17.0</td>\n",
              "      <td>85.0</td>\n",
              "      <td>4.0</td>\n",
              "      <td>30.0</td>\n",
              "      <td>22.0</td>\n",
              "      <td>9.0</td>\n",
              "      <td>10.0</td>\n",
              "      <td>11.0</td>\n",
              "      <td>7.0</td>\n",
              "      <td>7.0</td>\n",
              "      <td>11.0</td>\n",
              "      <td>9.0</td>\n",
              "      <td>11.0</td>\n",
              "      <td>44.0</td>\n",
              "      <td>8.0</td>\n",
              "      <td>14.0</td>\n",
              "      <td>19.0</td>\n",
              "      <td>10.0</td>\n",
              "      <td>17.0</td>\n",
              "      <td>17.0</td>\n",
              "      <td>10.0</td>\n",
              "      <td>7.0</td>\n",
              "      <td>10.0</td>\n",
              "      <td>1.0</td>\n",
              "      <td>...</td>\n",
              "      <td>7.0</td>\n",
              "      <td>10.0</td>\n",
              "      <td>7.0</td>\n",
              "      <td>10.0</td>\n",
              "      <td>14.0</td>\n",
              "      <td>17.0</td>\n",
              "      <td>11.0</td>\n",
              "      <td>9.0</td>\n",
              "      <td>11.0</td>\n",
              "      <td>5.0</td>\n",
              "      <td>10.0</td>\n",
              "      <td>8.0</td>\n",
              "      <td>17.0</td>\n",
              "      <td>13.0</td>\n",
              "      <td>23.0</td>\n",
              "      <td>40.0</td>\n",
              "      <td>16.0</td>\n",
              "      <td>17.0</td>\n",
              "      <td>41.0</td>\n",
              "      <td>17.0</td>\n",
              "      <td>8.0</td>\n",
              "      <td>9.0</td>\n",
              "      <td>18.0</td>\n",
              "      <td>12.0</td>\n",
              "      <td>12.0</td>\n",
              "      <td>18.0</td>\n",
              "      <td>13.0</td>\n",
              "      <td>18.0</td>\n",
              "      <td>23.0</td>\n",
              "      <td>10.0</td>\n",
              "      <td>32.0</td>\n",
              "      <td>10.0</td>\n",
              "      <td>26.0</td>\n",
              "      <td>27.0</td>\n",
              "      <td>16.0</td>\n",
              "      <td>11.0</td>\n",
              "      <td>17.0</td>\n",
              "      <td>19.0</td>\n",
              "      <td>10.0</td>\n",
              "      <td>11.0</td>\n",
              "    </tr>\n",
              "    <tr>\n",
              "      <th>4</th>\n",
              "      <td>52_Hz_I_Love_You_zh.wikipedia.org_all-access_s...</td>\n",
              "      <td>NaN</td>\n",
              "      <td>NaN</td>\n",
              "      <td>NaN</td>\n",
              "      <td>NaN</td>\n",
              "      <td>NaN</td>\n",
              "      <td>NaN</td>\n",
              "      <td>NaN</td>\n",
              "      <td>NaN</td>\n",
              "      <td>NaN</td>\n",
              "      <td>NaN</td>\n",
              "      <td>NaN</td>\n",
              "      <td>NaN</td>\n",
              "      <td>NaN</td>\n",
              "      <td>NaN</td>\n",
              "      <td>NaN</td>\n",
              "      <td>NaN</td>\n",
              "      <td>NaN</td>\n",
              "      <td>NaN</td>\n",
              "      <td>NaN</td>\n",
              "      <td>NaN</td>\n",
              "      <td>NaN</td>\n",
              "      <td>NaN</td>\n",
              "      <td>NaN</td>\n",
              "      <td>NaN</td>\n",
              "      <td>NaN</td>\n",
              "      <td>NaN</td>\n",
              "      <td>NaN</td>\n",
              "      <td>NaN</td>\n",
              "      <td>NaN</td>\n",
              "      <td>NaN</td>\n",
              "      <td>NaN</td>\n",
              "      <td>NaN</td>\n",
              "      <td>NaN</td>\n",
              "      <td>NaN</td>\n",
              "      <td>NaN</td>\n",
              "      <td>NaN</td>\n",
              "      <td>NaN</td>\n",
              "      <td>NaN</td>\n",
              "      <td>NaN</td>\n",
              "      <td>...</td>\n",
              "      <td>14.0</td>\n",
              "      <td>13.0</td>\n",
              "      <td>15.0</td>\n",
              "      <td>14.0</td>\n",
              "      <td>16.0</td>\n",
              "      <td>9.0</td>\n",
              "      <td>178.0</td>\n",
              "      <td>64.0</td>\n",
              "      <td>12.0</td>\n",
              "      <td>10.0</td>\n",
              "      <td>11.0</td>\n",
              "      <td>6.0</td>\n",
              "      <td>8.0</td>\n",
              "      <td>7.0</td>\n",
              "      <td>9.0</td>\n",
              "      <td>8.0</td>\n",
              "      <td>5.0</td>\n",
              "      <td>11.0</td>\n",
              "      <td>8.0</td>\n",
              "      <td>4.0</td>\n",
              "      <td>15.0</td>\n",
              "      <td>5.0</td>\n",
              "      <td>8.0</td>\n",
              "      <td>8.0</td>\n",
              "      <td>6.0</td>\n",
              "      <td>7.0</td>\n",
              "      <td>15.0</td>\n",
              "      <td>4.0</td>\n",
              "      <td>11.0</td>\n",
              "      <td>7.0</td>\n",
              "      <td>48.0</td>\n",
              "      <td>9.0</td>\n",
              "      <td>25.0</td>\n",
              "      <td>13.0</td>\n",
              "      <td>3.0</td>\n",
              "      <td>11.0</td>\n",
              "      <td>27.0</td>\n",
              "      <td>13.0</td>\n",
              "      <td>36.0</td>\n",
              "      <td>10.0</td>\n",
              "    </tr>\n",
              "  </tbody>\n",
              "</table>\n",
              "<p>5 rows × 551 columns</p>\n",
              "</div>"
            ],
            "text/plain": [
              "                                                Page  ...  2016-12-31\n",
              "0            2NE1_zh.wikipedia.org_all-access_spider  ...        20.0\n",
              "1             2PM_zh.wikipedia.org_all-access_spider  ...        20.0\n",
              "2              3C_zh.wikipedia.org_all-access_spider  ...        17.0\n",
              "3         4minute_zh.wikipedia.org_all-access_spider  ...        11.0\n",
              "4  52_Hz_I_Love_You_zh.wikipedia.org_all-access_s...  ...        10.0\n",
              "\n",
              "[5 rows x 551 columns]"
            ]
          },
          "metadata": {},
          "execution_count": 21
        }
      ]
    },
    {
      "cell_type": "code",
      "metadata": {
        "colab": {
          "base_uri": "https://localhost:8080/"
        },
        "id": "unPH0klZ43IU",
        "outputId": "77bb00b5-11c4-4c6b-abf7-f1fa67427754"
      },
      "source": [
        "df1.isna().sum()"
      ],
      "execution_count": 22,
      "outputs": [
        {
          "output_type": "execute_result",
          "data": {
            "text/plain": [
              "Page              0\n",
              "2015-07-01    20740\n",
              "2015-07-02    20816\n",
              "2015-07-03    20544\n",
              "2015-07-04    20654\n",
              "              ...  \n",
              "2016-12-27     3701\n",
              "2016-12-28     3822\n",
              "2016-12-29     3826\n",
              "2016-12-30     3635\n",
              "2016-12-31     3465\n",
              "Length: 551, dtype: int64"
            ]
          },
          "metadata": {},
          "execution_count": 22
        }
      ]
    },
    {
      "cell_type": "code",
      "metadata": {
        "id": "FjOgle1o0dAJ"
      },
      "source": [
        "df1 = df1.fillna(0)"
      ],
      "execution_count": 23,
      "outputs": []
    },
    {
      "cell_type": "code",
      "metadata": {
        "id": "-l1dIR5OE-d_"
      },
      "source": [
        "page = df1['Page']\n",
        "df1 = df1.drop('Page',axis = 1)"
      ],
      "execution_count": 24,
      "outputs": []
    },
    {
      "cell_type": "code",
      "source": [
        "page = df2['Page']\n",
        "df2 = df2.drop('Page',axis = 1)"
      ],
      "metadata": {
        "id": "KhMSzk3VjJg2"
      },
      "execution_count": 25,
      "outputs": []
    },
    {
      "cell_type": "code",
      "metadata": {
        "colab": {
          "base_uri": "https://localhost:8080/"
        },
        "id": "nohu2xxOKhri",
        "outputId": "e078edd1-130a-4862-f398-b5d282adc23e"
      },
      "source": [
        "train_row = df1.iloc[90000,:].values\n",
        "X = train_row[0:499]\n",
        "y = train_row[1:500]\n",
        "\n",
        "sc = MinMaxScaler()\n",
        "X_train = np.reshape(X,(-1,1))\n",
        "y_train = np.reshape(y,(-1,1))\n",
        "X_train = sc.fit_transform(X_train)\n",
        "y_train = sc.fit_transform(y_train)\n",
        "\n",
        "#Reshaping Array\n",
        "X_train = np.reshape(X_train, (499,1,1))\n",
        "regressor = Sequential()\n",
        "regressor.add(LSTM(units = 8, activation = 'relu', input_shape = (None, 1)))\n",
        "regressor.add(Dense(units = 1))\n",
        "regressor.compile(optimizer = 'adam', loss = 'mean_squared_error')\n",
        "regressor.fit(X_train, y_train, batch_size = 10, epochs = 100, verbose = 0)"
      ],
      "execution_count": 26,
      "outputs": [
        {
          "output_type": "execute_result",
          "data": {
            "text/plain": [
              "<keras.callbacks.History at 0x7f53b61f3910>"
            ]
          },
          "metadata": {},
          "execution_count": 26
        }
      ]
    },
    {
      "cell_type": "code",
      "metadata": {
        "colab": {
          "base_uri": "https://localhost:8080/",
          "height": 295
        },
        "id": "m9BwJa43KnLh",
        "outputId": "3d093324-1047-43a1-d600-58cd359503f9"
      },
      "source": [
        "# Getting the predicted Web View\n",
        "test_row = df1.iloc[5000,:].values\n",
        "X_test = test_row[50:549]\n",
        "y_test = test_row[500:550]\n",
        "\n",
        "inputs = X_test\n",
        "inputs = np.reshape(inputs,(-1,1))\n",
        "inputs = sc.transform(inputs)\n",
        "inputs = np.reshape(inputs, (499, 1, 1))\n",
        "y_pred = regressor.predict(inputs)\n",
        "y_pred = sc.inverse_transform(y_pred)\n",
        "\n",
        "#Visualising Result\n",
        "plt.figure\n",
        "plt.plot(y_test, color = 'red', label = 'Real Web View')\n",
        "plt.plot(y_pred[449:],color = 'blue', label = 'Predicted Web View')\n",
        "plt.title('Web View Forecasting')\n",
        "plt.xlabel('Number of Days from Start')\n",
        "plt.ylabel('Web View')\n",
        "plt.legend()\n",
        "plt.show()"
      ],
      "execution_count": 27,
      "outputs": [
        {
          "output_type": "display_data",
          "data": {
            "image/png": "[encoded data removed]",
            "text/plain": [
              "<Figure size 432x288 with 1 Axes>"
            ]
          },
          "metadata": {
            "needs_background": "light"
          }
        }
      ]
    },
    {
      "cell_type": "code",
      "metadata": {
        "colab": {
          "base_uri": "https://localhost:8080/",
          "height": 295
        },
        "id": "Qkfqb9qiKpju",
        "outputId": "d7e6cac8-1e13-4d6f-f027-cff48b0d7d32"
      },
      "source": [
        "X_value = random.randint(0,df1.shape[0])\n",
        "test_row = df1.iloc[X_value,:].values\n",
        "X_test = test_row[50:549]\n",
        "y_test = test_row[500:550]\n",
        "inputs = X_test\n",
        "inputs = np.reshape(inputs,(-1,1))\n",
        "inputs = sc.transform(inputs)\n",
        "inputs = np.reshape(inputs, (499, 1, 1))\n",
        "y_pred = regressor.predict(inputs)\n",
        "y_pred = sc.inverse_transform(y_pred)\n",
        "\n",
        "#Visualising Result\n",
        "plt.figure\n",
        "plt.plot(y_test, color = 'red', label = 'Real Web View')\n",
        "plt.plot(y_pred[449:], color = 'blue', label = 'Predicted Web View')\n",
        "plt.title('Web View Forecasting for')\n",
        "plt.xlabel('Number of Days from Start')\n",
        "plt.ylabel('Web View')\n",
        "plt.legend()\n",
        "plt.show()"
      ],
      "execution_count": 28,
      "outputs": [
        {
          "output_type": "display_data",
          "data": {
            "image/png": "[encoded data removed]",
            "text/plain": [
              "<Figure size 432x288 with 1 Axes>"
            ]
          },
          "metadata": {
            "needs_background": "light"
          }
        }
      ]
    },
    {
      "cell_type": "code",
      "source": [
        "y_test_mean = []\n",
        "y_pred_mean = []\n",
        "for X_value in range(1000,2000):\n",
        "    test_row = df1.iloc[X_value,:].values\n",
        "    X_test = test_row[50:549]\n",
        "    y_test = test_row[500:550]\n",
        "    y_test_mean.append(np.mean(y_test))\n",
        "    inputs = X_test\n",
        "    inputs = np.reshape(inputs,(-1,1))\n",
        "    inputs = sc.transform(inputs)\n",
        "    inputs = np.reshape(inputs, (499, 1, 1))\n",
        "    y_pred = regressor.predict(inputs)\n",
        "    y_pred = sc.inverse_transform(y_pred)\n",
        "    y_pred_mean.append(np.mean(y_pred))"
      ],
      "metadata": {
        "id": "qvcMmunmcBXS"
      },
      "execution_count": 29,
      "outputs": []
    },
    {
      "cell_type": "code",
      "source": [
        "#Visualising mean\n",
        "plt.figure\n",
        "plt.plot(y_test_mean, color = 'red', label = 'Mean Real Web View')\n",
        "plt.plot(y_pred_mean, color = 'blue', label = 'Mean Predicted Web View')\n",
        "plt.title('Mean Web View Forecasting')\n",
        "plt.xlabel('Index of Page')\n",
        "plt.ylabel('Mean Web View')\n",
        "plt.legend()\n",
        "plt.show()"
      ],
      "metadata": {
        "colab": {
          "base_uri": "https://localhost:8080/",
          "height": 295
        },
        "id": "kSBWsifbcQYd",
        "outputId": "3ecf45c3-4ca3-4090-aa92-f29fcdfb1b7b"
      },
      "execution_count": 30,
      "outputs": [
        {
          "output_type": "display_data",
          "data": {
            "image/png": "[encoded data removed]",
            "text/plain": [
              "<Figure size 432x288 with 1 Axes>"
            ]
          },
          "metadata": {
            "needs_background": "light"
          }
        }
      ]
    },
    {
      "cell_type": "code",
      "metadata": {
        "colab": {
          "base_uri": "https://localhost:8080/",
          "height": 281
        },
        "id": "bTEMEMv4LM3y",
        "outputId": "08d44849-818c-4a9a-aa89-6331c8eceba5"
      },
      "source": [
        "pages = np.random.randint(0,df1.shape[0],100)\n",
        "y_test_mean = []\n",
        "y_pred_mean = []\n",
        "for X_value in pages:\n",
        "    test_row = df1.iloc[X_value,:].values\n",
        "    X_test = test_row[50:549]\n",
        "    y_test = test_row[500:550]\n",
        "    y_test_mean.append(np.mean(y_test))\n",
        "    inputs = X_test\n",
        "    inputs = np.reshape(inputs,(-1,1))\n",
        "    inputs = sc.transform(inputs)\n",
        "    inputs = np.reshape(inputs, (499, 1, 1))\n",
        "    y_pred = regressor.predict(inputs)\n",
        "    y_pred = sc.inverse_transform(y_pred)\n",
        "    y_pred_mean.append(np.mean(y_pred))\n",
        "    \n",
        "#Visualising mean\n",
        "plt.figure\n",
        "plt.plot(y_test_mean, color = 'red', label = 'Mean Real Web View')\n",
        "plt.plot(y_pred_mean, color = 'blue', label = 'Mean Predicted Web View')\n",
        "plt.title('Mean Web View Forecasting')\n",
        "plt.ylabel('Mean Web View')\n",
        "plt.legend()\n",
        "plt.show()"
      ],
      "execution_count": 34,
      "outputs": [
        {
          "output_type": "display_data",
          "data": {
            "image/png": "[encoded data removed]",
            "text/plain": [
              "<Figure size 432x288 with 1 Axes>"
            ]
          },
          "metadata": {
            "needs_background": "light"
          }
        }
      ]
    },
    {
      "cell_type": "markdown",
      "source": [
        "## Testing on Train 2"
      ],
      "metadata": {
        "id": "s25NmI2ci7xM"
      }
    },
    {
      "cell_type": "code",
      "source": [
        "# Getting the predicted Web View\n",
        "test_row = df2.iloc[500,:].values\n",
        "X_test = test_row[549:]\n",
        "y_test = test_row[550:]\n",
        "inputs = X_test\n",
        "inputs = np.reshape(inputs,(-1,1))\n",
        "inputs = sc.transform(inputs)\n",
        "inputs = np.reshape(inputs, (254, 1, 1))\n",
        "y_pred = regressor.predict(inputs)\n",
        "y_pred = sc.inverse_transform(y_pred)\n",
        "\n",
        "#Visualising Result\n",
        "plt.figure\n",
        "plt.plot(y_test, color = 'red', label = 'Real Web View')\n",
        "plt.plot(y_pred, color = 'blue', label = 'Predicted Web View')\n",
        "plt.title('Web View Forecasting')\n",
        "plt.xlabel('Number of Days from Start')\n",
        "plt.ylabel('Web View')\n",
        "plt.legend()\n",
        "plt.show()"
      ],
      "metadata": {
        "colab": {
          "base_uri": "https://localhost:8080/",
          "height": 295
        },
        "id": "VZGfvZef-hOn",
        "outputId": "e41c1052-37b0-4c1d-f75f-7f336cd9fe0d"
      },
      "execution_count": 44,
      "outputs": [
        {
          "output_type": "display_data",
          "data": {
            "image/png": "[encoded data removed]",
            "text/plain": [
              "<Figure size 432x288 with 1 Axes>"
            ]
          },
          "metadata": {
            "needs_background": "light"
          }
        }
      ]
    },
    {
      "cell_type": "code",
      "source": [
        "pages = np.random.randint(0,df2.shape[0],100)\n",
        "y_test_mean = []\n",
        "y_pred_mean = []\n",
        "for X_value in pages:\n",
        "    test_row = df2.iloc[X_value,:].values\n",
        "    X_test = test_row[549:]\n",
        "    y_test = test_row[550:]\n",
        "    y_test_mean.append(np.mean(y_test))\n",
        "    inputs = X_test\n",
        "    inputs = np.reshape(inputs,(-1,1))\n",
        "    inputs = sc.transform(inputs)\n",
        "    inputs = np.reshape(inputs, (254, 1, 1))\n",
        "    y_pred = regressor.predict(inputs)\n",
        "    y_pred = sc.inverse_transform(y_pred)\n",
        "    y_pred_mean.append(np.mean(y_pred))\n",
        "    \n",
        "#Visualising mean\n",
        "plt.figure\n",
        "plt.plot(y_test_mean, color = 'red', label = 'Mean Real Web View')\n",
        "plt.plot(y_pred_mean, color = 'blue', label = 'Mean Predicted Web View')\n",
        "plt.title('Mean Web View Forecasting')\n",
        "plt.ylabel('Mean Web View')\n",
        "plt.legend()\n",
        "plt.show()"
      ],
      "metadata": {
        "colab": {
          "base_uri": "https://localhost:8080/",
          "height": 281
        },
        "id": "ROIgvJQcikmq",
        "outputId": "823a88d5-4c32-46fc-9ea5-8359cec8bd36"
      },
      "execution_count": 36,
      "outputs": [
        {
          "output_type": "display_data",
          "data": {
            "image/png": "[encoded data removed]",
            "text/plain": [
              "<Figure size 432x288 with 1 Axes>"
            ]
          },
          "metadata": {
            "needs_background": "light"
          }
        }
      ]
    }
  ]
}